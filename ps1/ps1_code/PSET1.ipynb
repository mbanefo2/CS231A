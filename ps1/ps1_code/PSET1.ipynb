{
  "nbformat": 4,
  "nbformat_minor": 0,
  "metadata": {
    "colab": {
      "provenance": []
    },
    "kernelspec": {
      "name": "python3",
      "display_name": "Python 3"
    },
    "accelerator": "GPU"
  },
  "cells": [
    {
      "cell_type": "markdown",
      "metadata": {
        "id": "LBciS_TD3JVl"
      },
      "source": [
        "# CS231a PSET 1\n",
        "\n",
        "You can use this colab notebook to write your code in, which could save you the trouble of having to set up Python or installing packages."
      ]
    },
    {
      "cell_type": "markdown",
      "metadata": {
        "id": "NTffBCOz7qwz"
      },
      "source": [
        "# Problem 2: Affine Camera Calibration\n",
        "\n",
        "First, we need to be able to access the data for this problem. Run the following:"
      ]
    },
    {
      "cell_type": "code",
      "source": [
        "from google.colab import drive\n",
        "\n",
        "drive.mount('/content/drive', force_remount=True)\n",
        "\n",
        "# enter the foldername in your Drive where you have saved the unzipped\n",
        "# the files containing the '.npy' files needed for problem 2\n",
        "# e.g. '/content/drive/MyDrive/cs231a'\n",
        "FOLDERNAME = 'cs231a'\n",
        "\n",
        "assert FOLDERNAME is not None, \"[!] Enter the foldername.\"\n",
        "\n",
        "%cd drive/MyDrive/$FOLDERNAME\n",
        "print('Files in this folder:')\n",
        "%ls ."
      ],
      "metadata": {
        "id": "nAgQT2NoY4h0"
      },
      "execution_count": null,
      "outputs": []
    },
    {
      "cell_type": "markdown",
      "source": [
        "Now, you can fill out the logic for this problem. Once done, copy it to p2.py for submission to Gradescope."
      ],
      "metadata": {
        "id": "eQVcAYd8ZjWh"
      }
    },
    {
      "cell_type": "code",
      "source": [
        "# CS231A Homework 1, Problem 2\n",
        "import numpy as np\n",
        "\n",
        "'''\n",
        "DATA FORMAT\n",
        "\n",
        "In this problem, we provide and load the data for you. Recall that in the original\n",
        "problem statement, there exists a grid of black squares on a white background. We\n",
        "know how these black squares are setup, and thus can determine the locations of\n",
        "specific points on the grid (namely the corners). We also have images taken of the\n",
        "grid at a front image (where Z = 0) and a back image (where Z = 150). The data we\n",
        "load for you consists of three parts: real_XY, front_image, and back_image. For a\n",
        "corner (0,0), we may see it at the (137, 44) pixel in the front image and the\n",
        "(148, 22) pixel in the back image. Thus, one row of real_XY will contain the numpy\n",
        "array [0, 0], corresponding to the real XY location (0, 0). The matching row in\n",
        "front_image will contain [137, 44] and the matching row in back_image will contain\n",
        "[148, 22]\n",
        "'''\n",
        "\n",
        "'''\n",
        "COMPUTE_CAMERA_MATRIX\n",
        "Arguments:\n",
        "     real_XY - Each row corresponds to an actual point on the 2D plane\n",
        "     front_image - Each row is the pixel location in the front image where Z=0\n",
        "     back_image - Each row is the pixel location in the back image where Z=150\n",
        "Returns:\n",
        "    camera_matrix - The calibrated camera matrix (3x4 matrix)\n",
        "'''\n",
        "def compute_camera_matrix(real_XY, front_image, back_image):\n",
        "    # TODO: Fill in this code\n",
        "    # Hint: reshape your values such that you have PM=p,\n",
        "    # and use np.linalg.lstsq or np.linalg.pinv to solve for M.\n",
        "    # See https://apimirror.com/numpy~1.11/generated/numpy.linalg.pinv\n",
        "    #\n",
        "    # Our solution has shapes for M=(8,), P=(48,8), and p=(48,)\n",
        "    # Alternatively, you can set things up such that M=(4,2), P=(24,4), and p=(24,2)\n",
        "    # Lastly, reshape and add the (0,0,0,1) row to M to have it be (3,4)\n",
        "\n",
        "    # BEGIN YOUR CODE HERE\n",
        "    pass\n",
        "    # END YOUR CODE HERE\n",
        "\n",
        "'''\n",
        "RMS_ERROR\n",
        "Arguments:\n",
        "     camera_matrix - The camera matrix of the calibrated camera\n",
        "     real_XY - Each row corresponds to an actual point on the 2D plane\n",
        "     front_image - Each row is the pixel location in the front image where Z=0\n",
        "     back_image - Each row is the pixel location in the back image where Z=150\n",
        "Returns:\n",
        "    rms_error - The root mean square error of reprojecting the points back\n",
        "                into the images\n",
        "'''\n",
        "def rms_error(camera_matrix, real_XY, front_image, back_image):\n",
        "    # BEGIN YOUR CODE HERE\n",
        "    pass\n",
        "    # END YOUR CODE HERE\n",
        "\n",
        "if __name__ == '__main__':\n",
        "    # Loading the example coordinates setup\n",
        "    real_XY = np.load('real_XY.npy')\n",
        "    front_image = np.load('front_image.npy')\n",
        "    back_image = np.load('back_image.npy')\n",
        "\n",
        "    camera_matrix = compute_camera_matrix(real_XY, front_image, back_image)\n",
        "    print(\"Camera Matrix:\\n\", camera_matrix)\n",
        "    print()\n",
        "    print(\"RMS Error: \", rms_error(camera_matrix, real_XY, front_image, back_image))"
      ],
      "metadata": {
        "id": "DAnLg3_DZpTn"
      },
      "execution_count": null,
      "outputs": []
    },
    {
      "cell_type": "markdown",
      "source": [
        "# Problem 3: Single View Geometry\n",
        "\n",
        "First, make sure you have already run the code block for having access to image files from Problem 2. Then, complete this code and then copy it to p3.py for submission to Gradescope."
      ],
      "metadata": {
        "id": "ze1lB1gqbT4I"
      }
    },
    {
      "cell_type": "code",
      "source": [
        "# CS231A Homework 1, Problem 3\n",
        "import numpy as np\n",
        "from utils import mat2euler\n",
        "import math\n",
        "\n",
        "'''\n",
        "COMPUTE_VANISHING_POINTS\n",
        "Arguments:\n",
        "    points - a list of all the points where each row is (x, y). \n",
        "            It will contain four points: two for each parallel line.\n",
        "Returns:\n",
        "    vanishing_point - the pixel location of the vanishing point\n",
        "'''\n",
        "def compute_vanishing_point(points):\n",
        "    # BEGIN YOUR CODE HERE\n",
        "    pass\n",
        "    # END YOUR CODE HERE\n",
        "\n",
        "'''\n",
        "COMPUTE_K_FROM_VANISHING_POINTS\n",
        "Makes sure to make it so the bottom right element of K is 1 at the end.\n",
        "Arguments:\n",
        "    vanishing_points - a list of vanishing points\n",
        "\n",
        "Returns:\n",
        "    K - the intrinsic camera matrix (3x3 matrix)\n",
        "'''\n",
        "def compute_K_from_vanishing_points(vanishing_points):\n",
        "    # BEGIN YOUR CODE HERE\n",
        "    pass\n",
        "    # END YOUR CODE HERE\n",
        "\n",
        "'''\n",
        "COMPUTE_ANGLE_BETWEEN_PLANES\n",
        "Arguments:\n",
        "    vanishing_pair1 - a list of a pair of vanishing points computed from lines within the same plane\n",
        "    vanishing_pair2 - a list of another pair of vanishing points from a different plane than vanishing_pair1\n",
        "    K - the camera matrix used to take both images\n",
        "\n",
        "Returns:\n",
        "    angle - the angle in degrees between the planes which the vanishing point pair comes from2\n",
        "'''\n",
        "def compute_angle_between_planes(vanishing_pair1, vanishing_pair2, K):\n",
        "    # BEGIN YOUR CODE HERE\n",
        "    pass\n",
        "    # END YOUR CODE HERE\n",
        "\n",
        "'''\n",
        "COMPUTE_ROTATION_MATRIX_BETWEEN_CAMERAS\n",
        "Arguments:\n",
        "    vanishing_points1 - a list of vanishing points in image 1\n",
        "    vanishing_points2 - a list of vanishing points in image 2\n",
        "    K - the camera matrix used to take both images\n",
        "\n",
        "Returns:\n",
        "    R - the rotation matrix between camera 1 and camera 2\n",
        "'''\n",
        "def compute_rotation_matrix_between_cameras(vanishing_points1, vanishing_points2, K):\n",
        "    # BEGIN YOUR CODE HERE\n",
        "    pass\n",
        "    # END YOUR CODE HERE\n",
        "\n",
        "if __name__ == '__main__':\n",
        "    # Part A: Compute vanishing points\n",
        "    v1 = compute_vanishing_point(np.array([[1080, 598],[1840, 478],[1094,1340],[1774,1086]]))\n",
        "    v2 = compute_vanishing_point(np.array([[674,1826],[4, 878],[2456,1060],[1940,866]]))\n",
        "    v3 = compute_vanishing_point(np.array([[1094,1340],[1080,598],[1774,1086],[1840,478]]))\n",
        "\n",
        "    v1b = compute_vanishing_point(np.array([[314,1912],[2060,1040],[750,1378],[1438,1094]]))\n",
        "    v2b = compute_vanishing_point(np.array([[314,1912],[36,1578],[2060,1040],[1598,882]]))\n",
        "    v3b = compute_vanishing_point(np.array([[750,1378],[714,614],[1438,1094],[1474,494]]))\n",
        "\n",
        "    # Part B: Compute the camera matrix\n",
        "    vanishing_points = [v1, v2, v3]\n",
        "    print(\"Intrinsic Matrix:\\n\",compute_K_from_vanishing_points(vanishing_points))\n",
        "\n",
        "    K_actual = np.array([[2448.0, 0, 1253.0],[0, 2438.0, 986.0],[0,0,1.0]])\n",
        "    print()\n",
        "    print(\"Actual Matrix:\\n\", K_actual)\n",
        "\n",
        "    # Part D: Estimate the angle between the box and floor\n",
        "    floor_vanishing1 = v1\n",
        "    floor_vanishing2 = v2\n",
        "    box_vanishing1 = v3\n",
        "    box_vanishing2 = compute_vanishing_point(np.array([[1094,1340],[1774,1086],[1080,598],[1840,478]]))\n",
        "    angle = compute_angle_between_planes([floor_vanishing1, floor_vanishing2], [box_vanishing1, box_vanishing2], K_actual)\n",
        "    print()\n",
        "    print(\"Angle between floor and box:\", angle)\n",
        "\n",
        "    # Part E: Compute the rotation matrix between the two cameras\n",
        "    rotation_matrix = compute_rotation_matrix_between_cameras(np.array([v1, v2, v3]), np.array([v1b, v2b, v3b]), K_actual)\n",
        "    print(\"Rotation between two cameras:\\n\", rotation_matrix)\n",
        "    z,y,x = mat2euler(rotation_matrix)\n",
        "    print()\n",
        "    print(\"Angle around z-axis (pointing out of camera): %f degrees\" % (z * 180 / math.pi))\n",
        "    print(\"Angle around y-axis (pointing vertically): %f degrees\" % (y * 180 / math.pi))\n",
        "    print(\"Angle around x-axis (pointing horizontally): %f degrees\" % (x * 180 / math.pi))\n"
      ],
      "metadata": {
        "id": "DcevGmVvbzHq"
      },
      "execution_count": null,
      "outputs": []
    },
    {
      "cell_type": "markdown",
      "source": [
        "That's it, you are done! Remember to submit your code by copying the code from Colab to p[X].py, and submitting it to Gradescope by zipping the .py files and uploading the zip file to the coding assignment.\n",
        "\n"
      ],
      "metadata": {
        "id": "5b6jy1S0cjmU"
      }
    }
  ]
}